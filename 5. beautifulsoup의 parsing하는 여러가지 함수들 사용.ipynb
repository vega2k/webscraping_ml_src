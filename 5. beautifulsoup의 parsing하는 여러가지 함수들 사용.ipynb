{
 "cells": [
  {
   "cell_type": "code",
   "execution_count": 9,
   "metadata": {},
   "outputs": [
    {
     "name": "stdout",
     "output_type": "stream",
     "text": [
      "[<li class=\"first\" id=\"na\">NEVER -국민의아들</li>, <li class=\"first\" id=\"tw\">SIGNAL -TWICE</li>, <li class=\"second\" id=\"lo\">LONELY -씨스타</li>, <li class=\"second\" id=\"lu\">I LUV IT -PSY</li>, <li>New Face -PSY</li>]\n",
      "<class 'list'>\n",
      "<li class=\"first\" id=\"tw\">SIGNAL -TWICE</li>\n",
      "<li class=\"first\" id=\"na\">NEVER -국민의아들</li>\n",
      "<class 'bs4.element.Tag'>\n"
     ]
    }
   ],
   "source": [
    "from bs4 import BeautifulSoup\n",
    "\n",
    "html='''\n",
    "<ol>\n",
    "    <li id='na' class='first'>NEVER -국민의아들</li>\n",
    "    <li id='tw' class='first'>SIGNAL -TWICE</li>\n",
    "    <li id='lo' class='second'>LONELY -씨스타</li>\n",
    "    <li id='lu' class='second'>I LUV IT -PSY</li>\n",
    "    <li>New Face -PSY</li>\n",
    "</ol>\n",
    "'''\n",
    "\n",
    "soup = BeautifulSoup(html,'html.parser')\n",
    "print(soup.select('li'))\n",
    "print(type(soup.select('li')))\n",
    "print(soup.select('li')[1])\n",
    "print(soup.select_one('li'))\n",
    "print(type(soup.select_one('li')))"
   ]
  },
  {
   "cell_type": "code",
   "execution_count": 12,
   "metadata": {},
   "outputs": [
    {
     "name": "stdout",
     "output_type": "stream",
     "text": [
      "NEVER -국민의아들\n",
      "SIGNAL -TWICE\n"
     ]
    }
   ],
   "source": [
    "#tag명이 li 이고, class 이름이 'first' 인 tag 들 가져오기\n",
    "for tag in soup.select('li.first'):\n",
    "    #print(tag.text)\n",
    "    print(tag.string)"
   ]
  },
  {
   "cell_type": "code",
   "execution_count": 16,
   "metadata": {},
   "outputs": [
    {
     "name": "stdout",
     "output_type": "stream",
     "text": [
      "SIGNAL -TWICE\n",
      "SIGNAL -TWICE\n"
     ]
    }
   ],
   "source": [
    "#tag의 id 값이 'tw' 인 tag 가져오기\n",
    "print(soup.select_one('#tw').text)\n",
    "print(soup.select('#tw')[0].string)"
   ]
  },
  {
   "cell_type": "code",
   "execution_count": 18,
   "metadata": {},
   "outputs": [
    {
     "data": {
      "text/plain": [
       "'New Face -PSY'"
      ]
     },
     "execution_count": 18,
     "metadata": {},
     "output_type": "execute_result"
    }
   ],
   "source": [
    "#li tag 중에서 5번째 li tag 가져오기\n",
    "soup.select_one('li:nth-of-type(5)').text"
   ]
  },
  {
   "cell_type": "markdown",
   "metadata": {},
   "source": [
    "## find(), find_all()  메서드 사용하기"
   ]
  },
  {
   "cell_type": "code",
   "execution_count": 24,
   "metadata": {},
   "outputs": [
    {
     "name": "stdout",
     "output_type": "stream",
     "text": [
      "[<li class=\"first\" id=\"na\">NEVER -국민의아들</li>, <li class=\"first\" id=\"tw\">SIGNAL -TWICE</li>, <li class=\"second\" id=\"lo\">LONELY -씨스타</li>, <li class=\"second\" id=\"lu\">I LUV IT -PSY</li>, <li>New Face -PSY</li>]\n",
      "<class 'bs4.element.ResultSet'>\n",
      "LONELY -씨스타\n",
      "I LUV IT -PSY\n",
      "LONELY -씨스타\n"
     ]
    }
   ],
   "source": [
    "print(soup.find_all('li'))\n",
    "print(type(soup.find_all('li')))\n",
    "#tag명이 li 이고, class 이름이 'second' 인 tag 들 가져오기\n",
    "for tag in soup.find_all('li',attrs={'class':'second'}):\n",
    "    print(tag.text)\n",
    "    \n",
    "print(soup.find('li',attrs={'class':'second','id':'lo'}).string)    "
   ]
  },
  {
   "cell_type": "markdown",
   "metadata": {},
   "source": [
    "## 기상청 날씨 데이터 파싱하기 (find, find_all 사용)"
   ]
  },
  {
   "cell_type": "code",
   "execution_count": 29,
   "metadata": {},
   "outputs": [
    {
     "name": "stdout",
     "output_type": "stream",
     "text": [
      "A02 2018-06-17 00:00 보통\n",
      "A02 2018-06-17 12:00 보통\n",
      "A02 2018-06-18 00:00 보통\n",
      "A02 2018-06-18 12:00 보통\n",
      "A02 2018-06-19 00:00 보통\n",
      "A02 2018-06-19 12:00 보통\n",
      "A02 2018-06-20 00:00 보통\n",
      "A02 2018-06-20 12:00 보통\n",
      "A02 2018-06-21 00:00 보통\n",
      "A02 2018-06-21 12:00 보통\n",
      "A01 2018-06-22 00:00 보통\n",
      "A01 2018-06-23 00:00 보통\n",
      "A01 2018-06-24 00:00 보통\n"
     ]
    }
   ],
   "source": [
    "import requests\n",
    "from bs4 import BeautifulSoup\n",
    "url = \"http://www.kma.go.kr/weather/forecast/mid-term-rss3.jsp\"\n",
    "\n",
    "html = requests.get(url).text\n",
    "soup = BeautifulSoup(html,'html.parser')\n",
    "title = soup.find('header').find('title').text\n",
    "\n",
    "datas = soup.find('location',attrs={'wl_ver':'3'}).find_all('data')\n",
    "for data in datas:\n",
    "    print(data.find('mode').text+' '+data.find('tmef').text+' '+\\\n",
    "          data.find('reliability').text)"
   ]
  },
  {
   "cell_type": "markdown",
   "metadata": {},
   "source": [
    "## Melon 100 곡 데이터 파싱하기 (select, select_one 사용)"
   ]
  },
  {
   "cell_type": "code",
   "execution_count": 35,
   "metadata": {},
   "outputs": [
    {
     "name": "stdout",
     "output_type": "stream",
     "text": [
      "1 여행\n",
      "2 FAKE LOVE\n",
      "3 켜줘 (Light)\n",
      "4 캥거루 (Kangaroo) (Prod. ZICO)\n",
      "5 모래시계 (Prod. 헤이즈)\n",
      "6 BOOMERANG (부메랑)\n",
      "7 전하지 못한 진심 (Feat. Steve Aoki)\n",
      "8 DNA\n",
      "9 영원+1 (Prod. NELL)\n",
      "10 주지마\n",
      "11 밤 (Time for the moon night)\n",
      "12 지나오다\n",
      "13 봄날\n",
      "14 11 (Prod. 다이나믹듀오)\n",
      "15 Anpanman\n",
      "16 에너제틱 (Energetic)\n",
      "17 빙글뱅글 (Bingle Bangle)\n",
      "18 Beautiful\n",
      "19 Airplane pt.2\n",
      "20 약속해요 (I.P.U.)\n",
      "21 낙원\n",
      "22 Magic Shop\n",
      "23 Love Maze\n",
      "24 134340\n",
      "25 So What\n",
      "26 모든 날, 모든 순간 (Every day, Every Moment)\n",
      "27 You\n",
      "28 Intro : Singularity\n",
      "29 What is Love?\n",
      "30 Outro : Tear\n",
      "31 사랑을 했다 (LOVE SCENARIO)\n",
      "32 별이 빛나는 밤\n",
      "33 뿜뿜\n",
      "34 LATATA\n",
      "35 붕붕 (Feat. 식케이) (Prod. GroovyRoom)\n",
      "36 My Way\n",
      "37 그날처럼\n",
      "38 HandClap\n",
      "39 소나기 (Feat. 10cm)\n",
      "40 花요일 (Blooming Day)\n",
      "41 그때 헤어지면 돼\n",
      "42 Shape of You\n",
      "43 그리워하다\n",
      "44 Roller Coaster\n",
      "45 Havana (Feat. Young Thug)\n",
      "46 FAKE LOVE (Rocking Vibe Mix)\n",
      "47 선물\n",
      "48 The Feeling\n",
      "49 잊을만하면\n",
      "50 EVERYDAY\n",
      "51 데리러 가 (Good Evening)\n",
      "52 꽃 길\n",
      "53 넋두리\n",
      "54 가을 안부\n",
      "55 Universe\n",
      "56 미안해\n",
      "57 욕심\n",
      "58 열애중\n",
      "59 이 별\n",
      "60 밤편지\n",
      "61 비도 오고 그래서 (Feat. 신용재)\n",
      "62 Playdate\n",
      "63 REALLY REALLY\n",
      "64 비 그리고 너\n",
      "65 이 밤의 끝\n",
      "66 밤이 되니까\n",
      "67 Jenga (Feat. Gaeko)\n",
      "68 Thunder\n",
      "69 바코드 (Prod. GroovyRoom)\n",
      "70 우리 둘만 아는\n",
      "71 Bad Boy\n",
      "72 Vroom Vroom\n",
      "73 빛나리\n",
      "74 I Want You\n",
      "75 내일 만나 (Sweet Dreams!)\n",
      "76 Lonely\n",
      "77 좋니\n",
      "78 Heart Shaker\n",
      "79 Monday Blues\n",
      "80 휴일 (Lazy)\n",
      "81 Thursday\n",
      "82 all of my life\n",
      "83 눈사람\n",
      "84 눈 떠보니 이별이더라\n",
      "85 빨간 맛 (Red Flavor)\n",
      "86 All Day All Night\n",
      "87 불행 (Feat. 빈첸 (VINXEN))\n",
      "88 LIKEY\n",
      "89 시차 (We Are) (Feat. 로꼬 & GRAY)\n",
      "90 어른\n",
      "91 instagram\n",
      "92 북 (Prod. SLO)\n",
      "93 YOUTH\n",
      "94 독감 (Who Waits For Love)\n",
      "95 Lonely (Feat. 태연)\n",
      "96 비행운\n",
      "97 안녕 (You & I)\n",
      "98 There`s Nothing Holdin` Me Back\n",
      "99 마지막처럼\n",
      "100 전혀 (Feat. 우원재) (Prod. GroovyRoom)\n"
     ]
    }
   ],
   "source": [
    "import requests\n",
    "from bs4 import BeautifulSoup\n",
    "import re\n",
    "\n",
    "headers = {\n",
    "    'User-Agent': 'Mozilla/5.0 (Windows NT 10.0; Win64; x64) AppleWebKit/537.36 (KHTML, like Gecko) Chrome/67.0.3396.79 Safari/537.36'\n",
    "}\n",
    "url = 'https://www.melon.com/chart/index.htm'\n",
    "\n",
    "html = requests.get(url,headers=headers).text\n",
    "soup = BeautifulSoup(html,'html.parser')\n",
    "song_list = soup.select('#tb_list tr .wrap_song_info a[href*=playSong]')\n",
    "for idx,song in enumerate(song_list,1):\n",
    "    title = song.text\n",
    "    print(idx,title)"
   ]
  },
  {
   "cell_type": "markdown",
   "metadata": {},
   "source": [
    "## song title, songId로 song 상세정보 Link 출력하기"
   ]
  },
  {
   "cell_type": "code",
   "execution_count": 41,
   "metadata": {},
   "outputs": [
    {
     "name": "stdout",
     "output_type": "stream",
     "text": [
      "1 여행 https://www.melon.com/song/detail.htm?songId=31093710\n",
      "2 FAKE LOVE https://www.melon.com/song/detail.htm?songId=31085237\n",
      "3 켜줘 (Light) https://www.melon.com/song/detail.htm?songId=31113240\n",
      "4 캥거루 (Kangaroo) (Prod. ZICO) https://www.melon.com/song/detail.htm?songId=31113241\n",
      "5 모래시계 (Prod. 헤이즈) https://www.melon.com/song/detail.htm?songId=31113243\n",
      "6 밤 (Time for the moon night) https://www.melon.com/song/detail.htm?songId=31052421\n",
      "7 주지마 https://www.melon.com/song/detail.htm?songId=31035061\n",
      "8 BOOMERANG (부메랑) https://www.melon.com/song/detail.htm?songId=30960341\n",
      "9 지나오다 https://www.melon.com/song/detail.htm?songId=30699142\n",
      "10 전하지 못한 진심 (Feat. Steve Aoki) https://www.melon.com/song/detail.htm?songId=31085238\n",
      "11 DNA https://www.melon.com/song/detail.htm?songId=30637982\n",
      "12 빙글뱅글 (Bingle Bangle) https://www.melon.com/song/detail.htm?songId=31098083\n",
      "13 영원+1 (Prod. NELL) https://www.melon.com/song/detail.htm?songId=31113242\n",
      "14 봄날 https://www.melon.com/song/detail.htm?songId=30244931\n",
      "15 에너제틱 (Energetic) https://www.melon.com/song/detail.htm?songId=30568338\n",
      "16 Anpanman https://www.melon.com/song/detail.htm?songId=31085244\n",
      "17 11 (Prod. 다이나믹듀오) https://www.melon.com/song/detail.htm?songId=31113244\n",
      "18 Beautiful https://www.melon.com/song/detail.htm?songId=30725482\n",
      "19 Airplane pt.2 https://www.melon.com/song/detail.htm?songId=31085243\n",
      "20 약속해요 (I.P.U.) https://www.melon.com/song/detail.htm?songId=30930312\n",
      "21 You https://www.melon.com/song/detail.htm?songId=30849733\n",
      "22 모든 날, 모든 순간 (Every day, Every Moment) https://www.melon.com/song/detail.htm?songId=30962526\n",
      "23 낙원 https://www.melon.com/song/detail.htm?songId=31085240\n",
      "24 What is Love? https://www.melon.com/song/detail.htm?songId=31006730\n",
      "25 Magic Shop https://www.melon.com/song/detail.htm?songId=31085242\n",
      "26 134340 https://www.melon.com/song/detail.htm?songId=31085239\n",
      "27 Love Maze https://www.melon.com/song/detail.htm?songId=31085241\n",
      "28 사랑을 했다 (LOVE SCENARIO) https://www.melon.com/song/detail.htm?songId=30859584\n",
      "29 별이 빛나는 밤 https://www.melon.com/song/detail.htm?songId=30937275\n",
      "30 So What https://www.melon.com/song/detail.htm?songId=31085245\n",
      "31 뿜뿜 https://www.melon.com/song/detail.htm?songId=30816860\n",
      "32 LATATA https://www.melon.com/song/detail.htm?songId=31055324\n",
      "33 Intro : Singularity https://www.melon.com/song/detail.htm?songId=31085236\n",
      "34 My Way https://www.melon.com/song/detail.htm?songId=30721801\n",
      "35 붕붕 (Feat. 식케이) (Prod. GroovyRoom) https://www.melon.com/song/detail.htm?songId=31019584\n",
      "36 Outro : Tear https://www.melon.com/song/detail.htm?songId=31085246\n",
      "37 그날처럼 https://www.melon.com/song/detail.htm?songId=30755375\n",
      "38 HandClap https://www.melon.com/song/detail.htm?songId=8111603\n",
      "39 소나기 (Feat. 10cm) https://www.melon.com/song/detail.htm?songId=30970444\n",
      "40 그때 헤어지면 돼 https://www.melon.com/song/detail.htm?songId=30884950\n",
      "41 花요일 (Blooming Day) https://www.melon.com/song/detail.htm?songId=31009483\n",
      "42 그리워하다 https://www.melon.com/song/detail.htm?songId=30672529\n",
      "43 Roller Coaster https://www.melon.com/song/detail.htm?songId=30844118\n",
      "44 Shape of You https://www.melon.com/song/detail.htm?songId=30188113\n",
      "45 The Feeling https://www.melon.com/song/detail.htm?songId=31123630\n",
      "46 꽃 길 https://www.melon.com/song/detail.htm?songId=30948698\n",
      "47 잊을만하면 https://www.melon.com/song/detail.htm?songId=31056799\n",
      "48 Havana (Feat. Young Thug) https://www.melon.com/song/detail.htm?songId=30567963\n",
      "49 선물 https://www.melon.com/song/detail.htm?songId=30514366\n",
      "50 EVERYDAY https://www.melon.com/song/detail.htm?songId=30997649\n",
      "51 데리러 가 (Good Evening) https://www.melon.com/song/detail.htm?songId=31097925\n",
      "52 넋두리 https://www.melon.com/song/detail.htm?songId=9642570\n",
      "53 FAKE LOVE (Rocking Vibe Mix) https://www.melon.com/song/detail.htm?songId=31113142\n",
      "54 가을 안부 https://www.melon.com/song/detail.htm?songId=30669593\n",
      "55 열애중 https://www.melon.com/song/detail.htm?songId=31062863\n",
      "56 욕심 https://www.melon.com/song/detail.htm?songId=31046548\n",
      "57 Universe https://www.melon.com/song/detail.htm?songId=30806536\n",
      "58 밤편지 https://www.melon.com/song/detail.htm?songId=30314784\n",
      "59 바코드 (Prod. GroovyRoom) https://www.melon.com/song/detail.htm?songId=30989550\n",
      "60 미안해 https://www.melon.com/song/detail.htm?songId=30809895\n",
      "61 비도 오고 그래서 (Feat. 신용재) https://www.melon.com/song/detail.htm?songId=30492279\n",
      "62 REALLY REALLY https://www.melon.com/song/detail.htm?songId=30341745\n",
      "63 Thunder https://www.melon.com/song/detail.htm?songId=30393293\n",
      "64 이 별 https://www.melon.com/song/detail.htm?songId=30637776\n",
      "65 밤이 되니까 https://www.melon.com/song/detail.htm?songId=30659630\n",
      "66 비 그리고 너 https://www.melon.com/song/detail.htm?songId=31126547\n",
      "67 Heart Shaker https://www.melon.com/song/detail.htm?songId=30781481\n",
      "68 우리 둘만 아는 https://www.melon.com/song/detail.htm?songId=30702937\n",
      "69 Bad Boy https://www.melon.com/song/detail.htm?songId=30864993\n",
      "70 좋니 https://www.melon.com/song/detail.htm?songId=30486509\n",
      "71 빛나리 https://www.melon.com/song/detail.htm?songId=30992157\n",
      "72 Jenga (Feat. Gaeko) https://www.melon.com/song/detail.htm?songId=30939452\n",
      "73 빨간 맛 (Red Flavor) https://www.melon.com/song/detail.htm?songId=30512671\n",
      "74 이 밤의 끝 https://www.melon.com/song/detail.htm?songId=31107239\n",
      "75 눈사람 https://www.melon.com/song/detail.htm?songId=30877002\n",
      "76 눈 떠보니 이별이더라 https://www.melon.com/song/detail.htm?songId=30690674\n",
      "77 all of my life https://www.melon.com/song/detail.htm?songId=30550388\n",
      "78 Playdate https://www.melon.com/song/detail.htm?songId=31009487\n",
      "79 I Want You https://www.melon.com/song/detail.htm?songId=31123655\n",
      "80 Vroom Vroom https://www.melon.com/song/detail.htm?songId=31009486\n",
      "81 Thursday https://www.melon.com/song/detail.htm?songId=31009485\n",
      "82 휴일 (Lazy) https://www.melon.com/song/detail.htm?songId=31009488\n",
      "83 Monday Blues https://www.melon.com/song/detail.htm?songId=31009482\n",
      "84 내일 만나 (Sweet Dreams!) https://www.melon.com/song/detail.htm?songId=31009484\n",
      "85 어른 https://www.melon.com/song/detail.htm?songId=30985406\n",
      "86 Lonely https://www.melon.com/song/detail.htm?songId=31093714\n",
      "87 시차 (We Are) (Feat. 로꼬 & GRAY) https://www.melon.com/song/detail.htm?songId=30613202\n",
      "88 LIKEY https://www.melon.com/song/detail.htm?songId=30700708\n",
      "89 All Day All Night https://www.melon.com/song/detail.htm?songId=31097924\n",
      "90 instagram https://www.melon.com/song/detail.htm?songId=30806580\n",
      "91 YOUTH https://www.melon.com/song/detail.htm?songId=7928705\n",
      "92 북 (Prod. SLO) https://www.melon.com/song/detail.htm?songId=30957524\n",
      "93 불행 (Feat. 빈첸 (VINXEN)) https://www.melon.com/song/detail.htm?songId=31126139\n",
      "94 안녕 (You & I) https://www.melon.com/song/detail.htm?songId=31097928\n",
      "95 비행운 https://www.melon.com/song/detail.htm?songId=30086173\n",
      "96 마지막처럼 https://www.melon.com/song/detail.htm?songId=30481578\n",
      "97 There`s Nothing Holdin` Me Back https://www.melon.com/song/detail.htm?songId=30380953\n",
      "98 전혀 (Feat. 우원재) (Prod. GroovyRoom) https://www.melon.com/song/detail.htm?songId=31019586\n",
      "99 Lonely (Feat. 태연) https://www.melon.com/song/detail.htm?songId=30383758\n",
      "100 독감 (Who Waits For Love) https://www.melon.com/song/detail.htm?songId=31123659\n"
     ]
    }
   ],
   "source": [
    "import requests\n",
    "from bs4 import BeautifulSoup\n",
    "import re\n",
    "\n",
    "headers = {\n",
    "    'User-Agent': 'Mozilla/5.0 (Windows NT 10.0; Win64; x64) AppleWebKit/537.36 (KHTML, like Gecko) Chrome/67.0.3396.79 Safari/537.36'\n",
    "}\n",
    "url = 'https://www.melon.com/chart/index.htm'\n",
    "\n",
    "html = requests.get(url,headers=headers).text\n",
    "soup = BeautifulSoup(html,'html.parser')\n",
    "song_list = soup.select('#tb_list tr .wrap_song_info a[href*=playSong]')\n",
    "for idx,song in enumerate(song_list,1):\n",
    "    title = song.text\n",
    "    link = song['href']\n",
    "    matched = re.search(r\"(\\d+)\\);\",link)\n",
    "    if matched:\n",
    "        #print(matched.group(0),matched.group(1))\n",
    "        songId = matched.group(1)\n",
    "        songUrl = 'https://www.melon.com/song/detail.htm?songId='+songId\n",
    "        print(idx,title,songUrl)"
   ]
  }
 ],
 "metadata": {
  "kernelspec": {
   "display_name": "Python 3",
   "language": "python",
   "name": "python3"
  },
  "language_info": {
   "codemirror_mode": {
    "name": "ipython",
    "version": 3
   },
   "file_extension": ".py",
   "mimetype": "text/x-python",
   "name": "python",
   "nbconvert_exporter": "python",
   "pygments_lexer": "ipython3",
   "version": "3.6.5"
  }
 },
 "nbformat": 4,
 "nbformat_minor": 2
}
