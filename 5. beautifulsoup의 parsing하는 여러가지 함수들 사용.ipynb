{
 "cells": [
  {
   "cell_type": "code",
   "execution_count": 9,
   "metadata": {},
   "outputs": [
    {
     "name": "stdout",
     "output_type": "stream",
     "text": [
      "[<li class=\"first\" id=\"na\">NEVER -국민의아들</li>, <li class=\"first\" id=\"tw\">SIGNAL -TWICE</li>, <li class=\"second\" id=\"lo\">LONELY -씨스타</li>, <li class=\"second\" id=\"lu\">I LUV IT -PSY</li>, <li>New Face -PSY</li>]\n",
      "<class 'list'>\n",
      "<li class=\"first\" id=\"tw\">SIGNAL -TWICE</li>\n",
      "<li class=\"first\" id=\"na\">NEVER -국민의아들</li>\n",
      "<class 'bs4.element.Tag'>\n"
     ]
    }
   ],
   "source": [
    "from bs4 import BeautifulSoup\n",
    "\n",
    "html='''\n",
    "<ol>\n",
    "    <li id='na' class='first'>NEVER -국민의아들</li>\n",
    "    <li id='tw' class='first'>SIGNAL -TWICE</li>\n",
    "    <li id='lo' class='second'>LONELY -씨스타</li>\n",
    "    <li id='lu' class='second'>I LUV IT -PSY</li>\n",
    "    <li>New Face -PSY</li>\n",
    "</ol>\n",
    "'''\n",
    "\n",
    "soup = BeautifulSoup(html,'html.parser')\n",
    "print(soup.select('li'))\n",
    "print(type(soup.select('li')))\n",
    "print(soup.select('li')[1])\n",
    "print(soup.select_one('li'))\n",
    "print(type(soup.select_one('li')))"
   ]
  },
  {
   "cell_type": "code",
   "execution_count": 12,
   "metadata": {},
   "outputs": [
    {
     "name": "stdout",
     "output_type": "stream",
     "text": [
      "NEVER -국민의아들\n",
      "SIGNAL -TWICE\n"
     ]
    }
   ],
   "source": [
    "#tag명이 li 이고, class 이름이 'first' 인 tag 들 가져오기\n",
    "for tag in soup.select('li.first'):\n",
    "    #print(tag.text)\n",
    "    print(tag.string)"
   ]
  },
  {
   "cell_type": "code",
   "execution_count": 16,
   "metadata": {},
   "outputs": [
    {
     "name": "stdout",
     "output_type": "stream",
     "text": [
      "SIGNAL -TWICE\n",
      "SIGNAL -TWICE\n"
     ]
    }
   ],
   "source": [
    "#tag의 id 값이 'tw' 인 tag 가져오기\n",
    "print(soup.select_one('#tw').text)\n",
    "print(soup.select('#tw')[0].string)"
   ]
  },
  {
   "cell_type": "code",
   "execution_count": 18,
   "metadata": {},
   "outputs": [
    {
     "data": {
      "text/plain": [
       "'New Face -PSY'"
      ]
     },
     "execution_count": 18,
     "metadata": {},
     "output_type": "execute_result"
    }
   ],
   "source": [
    "#li tag 중에서 5번째 li tag 가져오기\n",
    "soup.select_one('li:nth-of-type(5)').text"
   ]
  },
  {
   "cell_type": "markdown",
   "metadata": {},
   "source": [
    "## find(), find_all()  메서드 사용하기"
   ]
  },
  {
   "cell_type": "code",
   "execution_count": 24,
   "metadata": {},
   "outputs": [
    {
     "name": "stdout",
     "output_type": "stream",
     "text": [
      "[<li class=\"first\" id=\"na\">NEVER -국민의아들</li>, <li class=\"first\" id=\"tw\">SIGNAL -TWICE</li>, <li class=\"second\" id=\"lo\">LONELY -씨스타</li>, <li class=\"second\" id=\"lu\">I LUV IT -PSY</li>, <li>New Face -PSY</li>]\n",
      "<class 'bs4.element.ResultSet'>\n",
      "LONELY -씨스타\n",
      "I LUV IT -PSY\n",
      "LONELY -씨스타\n"
     ]
    }
   ],
   "source": [
    "print(soup.find_all('li'))\n",
    "print(type(soup.find_all('li')))\n",
    "#tag명이 li 이고, class 이름이 'second' 인 tag 들 가져오기\n",
    "for tag in soup.find_all('li',attrs={'class':'second'}):\n",
    "    print(tag.text)\n",
    "    \n",
    "print(soup.find('li',attrs={'class':'second','id':'lo'}).string)    "
   ]
  },
  {
   "cell_type": "markdown",
   "metadata": {},
   "source": [
    "## 기상청 날씨 데이터 파싱하기 (find, find_all 사용)"
   ]
  },
  {
   "cell_type": "code",
   "execution_count": 29,
   "metadata": {},
   "outputs": [
    {
     "name": "stdout",
     "output_type": "stream",
     "text": [
      "A02 2018-06-17 00:00 보통\n",
      "A02 2018-06-17 12:00 보통\n",
      "A02 2018-06-18 00:00 보통\n",
      "A02 2018-06-18 12:00 보통\n",
      "A02 2018-06-19 00:00 보통\n",
      "A02 2018-06-19 12:00 보통\n",
      "A02 2018-06-20 00:00 보통\n",
      "A02 2018-06-20 12:00 보통\n",
      "A02 2018-06-21 00:00 보통\n",
      "A02 2018-06-21 12:00 보통\n",
      "A01 2018-06-22 00:00 보통\n",
      "A01 2018-06-23 00:00 보통\n",
      "A01 2018-06-24 00:00 보통\n"
     ]
    }
   ],
   "source": [
    "import requests\n",
    "from bs4 import BeautifulSoup\n",
    "url = \"http://www.kma.go.kr/weather/forecast/mid-term-rss3.jsp\"\n",
    "\n",
    "html = requests.get(url).text\n",
    "soup = BeautifulSoup(html,'html.parser')\n",
    "title = soup.find('header').find('title').text\n",
    "\n",
    "datas = soup.find('location',attrs={'wl_ver':'3'}).find_all('data')\n",
    "for data in datas:\n",
    "    print(data.find('mode').text+' '+data.find('tmef').text+' '+\\\n",
    "          data.find('reliability').text)"
   ]
  },
  {
   "cell_type": "markdown",
   "metadata": {},
   "source": [
    "## Melon 100 곡 데이터 파싱하기 (select, select_one 사용)"
   ]
  },
  {
   "cell_type": "code",
   "execution_count": null,
   "metadata": {},
   "outputs": [],
   "source": []
  }
 ],
 "metadata": {
  "kernelspec": {
   "display_name": "Python 3",
   "language": "python",
   "name": "python3"
  },
  "language_info": {
   "codemirror_mode": {
    "name": "ipython",
    "version": 3
   },
   "file_extension": ".py",
   "mimetype": "text/x-python",
   "name": "python",
   "nbconvert_exporter": "python",
   "pygments_lexer": "ipython3",
   "version": "3.6.5"
  }
 },
 "nbformat": 4,
 "nbformat_minor": 2
}
