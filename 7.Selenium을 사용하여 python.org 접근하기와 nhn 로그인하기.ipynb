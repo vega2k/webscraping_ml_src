{
 "cells": [
  {
   "cell_type": "markdown",
   "metadata": {},
   "source": [
    "## python.org에서 pypi 메뉴 클릭하기"
   ]
  },
  {
   "cell_type": "code",
   "execution_count": 13,
   "metadata": {},
   "outputs": [
    {
     "name": "stdout",
     "output_type": "stream",
     "text": [
      "Python\n",
      "PSF\n",
      "Docs\n",
      "PyPI\n",
      "Jobs\n",
      "Community\n"
     ]
    }
   ],
   "source": [
    "from selenium import webdriver\n",
    "from time import sleep\n",
    "\n",
    "#Chrome 객체 생성\n",
    "browser = webdriver.Chrome('./chromedriver')\n",
    "browser.get('http://python.org')\n",
    "\n",
    "menus = browser.find_elements_by_css_selector('#top ul.menu li')\n",
    "pypi=None\n",
    "for menu in menus:\n",
    "    print(menu.text)\n",
    "    if menu.text == 'PyPI':\n",
    "        pypi = menu\n",
    "\n",
    "#menu 객체를 찾은 후에 클릭\n",
    "pypi.click()\n",
    "#3초 동안 지연\n",
    "sleep(5)\n",
    "#종료\n",
    "browser.quit()"
   ]
  },
  {
   "cell_type": "markdown",
   "metadata": {},
   "source": [
    "## naver 로그인하기"
   ]
  },
  {
   "cell_type": "code",
   "execution_count": 15,
   "metadata": {},
   "outputs": [],
   "source": [
    "from selenium import webdriver\n",
    "from time import sleep\n",
    "\n",
    "browser = webdriver.Chrome('./chromedriver')\n",
    "browser.get('https://nid.naver.com/nidlogin.login')\n",
    "#id 와 pass 입력\n",
    "id = browser.find_element_by_css_selector('#id').send_keys('vega2k')\n",
    "pw = browser.find_element_by_css_selector('#pw').send_keys('vega2k')\n",
    "sleep(2)\n",
    "button = browser.find_element_by_css_selector('#frmNIDLogin > fieldset > input')\n",
    "button.click()\n",
    "sleep(10)\n",
    "browser.quit()"
   ]
  }
 ],
 "metadata": {
  "kernelspec": {
   "display_name": "Python 3",
   "language": "python",
   "name": "python3"
  },
  "language_info": {
   "codemirror_mode": {
    "name": "ipython",
    "version": 3
   },
   "file_extension": ".py",
   "mimetype": "text/x-python",
   "name": "python",
   "nbconvert_exporter": "python",
   "pygments_lexer": "ipython3",
   "version": "3.6.5"
  }
 },
 "nbformat": 4,
 "nbformat_minor": 2
}
