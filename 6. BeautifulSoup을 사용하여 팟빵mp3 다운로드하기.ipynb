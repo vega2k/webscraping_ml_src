{
 "cells": [
  {
   "cell_type": "code",
   "execution_count": 1,
   "metadata": {},
   "outputs": [
    {
     "name": "stdout",
     "output_type": "stream",
     "text": [
      "무서운이야기 - 2017 엔딩 http://www.podbbang.com/download?pid=7865&eid=22393033\n"
     ]
    }
   ],
   "source": [
    "import requests\n",
    "from bs4 import BeautifulSoup\n",
    "from urllib.parse import urljoin\n",
    "\n",
    "page_url='http://www.podbbang.com/podbbangchnew/episode_list?id=7865&page=1'\n",
    "headers={\n",
    "    'Referer':'http://www.podbbang.com/ch/7865'\n",
    "}\n",
    "resp=requests.get(page_url,headers=headers)\n",
    "resp.encoding='utf-8'\n",
    "html=resp.text\n",
    "soup=BeautifulSoup(html,'html.parser')\n",
    "for li_tag in soup.select('li'):\n",
    "    title = li_tag.find('dt')['title']    \n",
    "    link = urljoin(page_url,li_tag.find('a')['href'])\n",
    "    print(title,link)\n",
    "    \n",
    "    mp3_bin=requests.get(link,headers=headers).content\n",
    "    filename='{}.mp3'.format(title)\n",
    "    with open(filename,'wb') as f:\n",
    "        f.write(mp3_bin)\n",
    "    break"
   ]
  },
  {
   "cell_type": "code",
   "execution_count": 28,
   "metadata": {},
   "outputs": [],
   "source": [
    "## episode Id를 입력으로 받는  download_mp3(pid) 함수 작성\n",
    "import requests\n",
    "from bs4 import BeautifulSoup\n",
    "from urllib.parse import urljoin\n",
    "from itertools import count\n",
    "from time import sleep\n",
    "\n",
    "def download_mp3(pid):\n",
    "    for page in count(1):\n",
    "        print('>>>> page 번호 : {}'.format(page))\n",
    "        page_url='http://www.podbbang.com/podbbangchnew/episode_list'\n",
    "        params = {\n",
    "            'id':pid,\n",
    "            'page':page\n",
    "        }\n",
    "        headers={\n",
    "            'Referer':'http://www.podbbang.com/ch/{pid}'.format(pid=pid)\n",
    "        }\n",
    "        resp=requests.get(page_url,headers=headers,params=params)\n",
    "        print(page_url,params)\n",
    "        resp.encoding='utf-8'\n",
    "        html=resp.text\n",
    "        \n",
    "        soup=BeautifulSoup(html,'html.parser')\n",
    "        for li_tag in soup.select('li'):\n",
    "            print(li_tag)\n",
    "            #print(urljoin(page_url,li_tag.find('a')['href']))\n",
    "            try:\n",
    "                title = li_tag.find('dt')['title']    \n",
    "                link = urljoin(page_url,li_tag.find('a')['href'])\n",
    "                print(title,link)\n",
    "            except(TypeError,KeyError):\n",
    "                print('END')\n",
    "                return None\n",
    "            else:    \n",
    "                '''\n",
    "                mp3_bin=requests.get(link,headers=headers).content\n",
    "                filename='{}.mp3'.format(title)\n",
    "                with open(filename,'wb') as f:\n",
    "                    f.write(mp3_bin)\n",
    "                break     \n",
    "                '''\n",
    "            sleep(0.5)    "
   ]
  },
  {
   "cell_type": "code",
   "execution_count": 31,
   "metadata": {},
   "outputs": [
    {
     "name": "stdout",
     "output_type": "stream",
     "text": [
      ">>>> page 번호 : 1\n",
      "http://www.podbbang.com/podbbangchnew/episode_list {'id': 13909, 'page': 1}\n",
      "<li class=\" epi22629874 cashlist\" epiuid=\"22629874\" id=\"episode_latest_22629874\">\n",
      "<dl class=\"second\" onclick=\"login_top.showEpisode('22629874','audio/mpeg')\" style=\"cursor:pointer;\">\n",
      "<dt class=\"title_none\" title=\"34-1 안데르센,그림 형제,페로 동화 1부 : 괴롭고 힘든 어린이와 어른에게 가장 필요한 것은?\">34-1 안데르센,그림 형제,페로 동화 1부 : 괴롭고 힘든 어린이와 어른에게 가장 필요한 것은?</dt>\n",
      "<dd class=\"dd_date\"><img alt=\"\" src=\"http://img.podbbang.com/img/h2/podbbang/individual/icon_up_2.gif\"/> 18.06.14</dd>\n",
      "<dd class=\"dd_time\"><img alt=\"\" src=\"http://img.podbbang.com/img/h2/podbbang/individual/icon_time.gif\"/> 1:02:26</dd>\n",
      "<dd class=\"dd_heart\"><img alt=\"\" src=\"http://img.podbbang.com/img/h2/podbbang/individual/icon_heart_red.png\"/> <span id=\"num_like22629874\">43</span></dd>\n",
      "</dl>\n",
      "<!-- 2017.08.23 유료 -->\n",
      "<!-- 구매 완료 -->\n",
      "<p class=\"cash cash_complete\" style=\"display:none;\">구매완료</p>\n",
      "<!-- 몇일 후 무료 -->\n",
      "<div class=\"cash after_free\">\n",
      "<p class=\"cash_price\"><img alt=\"\" src=\"http://img.podbbang.com/img/h2/podbbang/individual/icon_cash.png\"/>500</p>\n",
      "<span>12일 후 무료</span>\n",
      "</div>\n",
      "</li>\n",
      "END\n"
     ]
    }
   ],
   "source": [
    "# 함수 호출\n",
    "#download_mp3(7865)\n",
    "download_mp3(13909)"
   ]
  }
 ],
 "metadata": {
  "kernelspec": {
   "display_name": "Python 3",
   "language": "python",
   "name": "python3"
  },
  "language_info": {
   "codemirror_mode": {
    "name": "ipython",
    "version": 3
   },
   "file_extension": ".py",
   "mimetype": "text/x-python",
   "name": "python",
   "nbconvert_exporter": "python",
   "pygments_lexer": "ipython3",
   "version": "3.6.5"
  }
 },
 "nbformat": 4,
 "nbformat_minor": 2
}
