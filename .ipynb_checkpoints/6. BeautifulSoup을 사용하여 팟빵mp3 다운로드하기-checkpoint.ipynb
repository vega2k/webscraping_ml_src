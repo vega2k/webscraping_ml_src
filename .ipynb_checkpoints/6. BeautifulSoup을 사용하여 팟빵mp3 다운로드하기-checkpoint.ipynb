{
 "cells": [
  {
   "cell_type": "code",
   "execution_count": 28,
   "metadata": {},
   "outputs": [
    {
     "name": "stdout",
     "output_type": "stream",
     "text": [
      "<li><a href=\"/event/app\" style=\"color:red;\">팟빵앱</a></li>\n",
      "<li><a href=\"http://www.ssenhosting.com/hosting/pod\" target=\"_blank\">팟빵호스팅</a></li>\n",
      "<li class=\"last\"><a href=\"/station/studio\">팟빵스튜디오</a></li>\n",
      "<li class=\"btn\"><iframe allowtransparency=\"true\" frameborder=\"0\" height=\"30\" id=\"login_top\" scrolling=\"no\" src=\"/home/login_top?pos=false\" style=\"margin: -10px;\" width=\"205\"></iframe></li>\n",
      "<li class=\"menu_01\"><a href=\"#\" onclick=\"showMenuMore();return false;\"><img alt=\"팟캐스트 전체\" src=\"http://img.podbbang.com/pb/img/main/menu_01.png\"/></a></li>\n",
      "<li class=\"menu_02\"><a href=\"/ranking\"><img alt=\"팟캐스트 순위\" src=\"http://img.podbbang.com/pb/img/main/menu_02.png\"/></a></li>\n",
      "<li class=\"menu_03\"><a href=\"/podcast/recommend\"><img alt=\"팟캐스트 추천\" src=\"http://img.podbbang.com/pb/img/main/menu_03.png\"/></a></li>\n",
      "<li class=\"menu_04\"><a href=\"/podcast/newest\"><img alt=\"팟캐스트 신규\" src=\"http://img.podbbang.com/pb/img/main/menu_04.png\"/></a></li>\n",
      "<li class=\"menu_08\"><a href=\"/radio/lists\"><img alt=\"라디오\" src=\"http://img.podbbang.com/pb/img/main/menu_08.png\"/></a></li>\n",
      "<li class=\"menu_06\"><a href=\"http://www.ziksir.com/ziksir\" target=\"_blank\"><img alt=\"팟빵직썰\" src=\"http://img.podbbang.com/pb/img/main/menu_05.png\"/></a></li>\n",
      "<li class=\"menu_07\"><a href=\"/support\"><img alt=\"기부센터\" src=\"http://img.podbbang.com/pb/img/main/menu_07.png\"/></a></li>\n",
      "<li><a class=\"first\" href=\"/help/podbbang_intro\">팟빵소개</a></li>\n",
      "<li><a href=\"/podbbang/policy/use\">이용약관</a></li>\n",
      "<li class=\"last2\"><a href=\"/podbbang/policy/personal\">개인정보처리방침</a></li>\n",
      "<li><a href=\"/podbbang/policy/email\">이메일무단추출금지</a></li>\n",
      "<li><a href=\"/help/notice\">고객센터</a></li>\n",
      "<li class=\"last\"><a href=\"/ad\" target=\"_blank\">광고제휴문의</a></li>\n",
      "<li style=\"margin-left:270px;\"><a href=\"#top\" onclick=\"poddayLayer();\" style=\"color:red;\">팟빵선언</a></li>\n",
      "<li class=\"last last2\"><a href=\"/help/faq\" target=\"_blank\">자주 묻는 질문</a></li>\n",
      "<li><img alt=\"Podbbang\" src=\"http://img.podbbang.com/pb/img/main/logo_footer.jpg\"/></li>\n",
      "<li class=\"right\">\n",
      "<p style=\"padding-top:5px;\">(주)팟빵 서울특별시 금천구 가산디지털1로 168 우림라이온스밸리 A동 811호 (가산동). 사업자등록번호 119-81-94062 통신판매 제 2011-서울금천-0376호 <br/>\n",
      "                            대표 김동희 개인정보 보호책임자 현숙희  Mail : <a href=\"mailto:help@podbbang.com\">help@podbbang.com</a>  Tel : 02-6903-9339  Fax : 02-2026-5314 <br/>\n",
      "                            COPYRIGHT (C) 2018 PODBBANG. ALL RIGHT RESERVED. </p>\n",
      "<p class=\"warning\">누구든지 정보통신망을 통하여 음란물, 불법 유해정보 등을 게시 또는 배포하시면 해당 게시물은 경고없이 삭제되며, 게시자는 관련법률 및 법령에 의하여 처벌받게 됩니다.</p>\n",
      "</li>\n"
     ]
    }
   ],
   "source": [
    "import requests\n",
    "from bs4 import BeautifulSoup\n",
    "from urllib.parse import urljoin\n",
    "\n",
    "page_url='http://www.podbbang.com/podbbangchnew/eppisode_list?id=7865&page=1'\n",
    "headers={\n",
    "    'Referer':'http://www.podbbang.com/ch/7865'\n",
    "}\n",
    "resp=requests.get(page_url,headers=headers)\n",
    "resp.encoding='utf-8'\n",
    "html=resp.text\n",
    "soup=BeautifulSoup(html,'html.parser')\n",
    "for li_tag in soup.select('li'):\n",
    "    title = li_tag.find('dt')['title']    \n",
    "    #link = urljoin(page_url,li_tag.find('a')['href'])\n",
    "    print(title)\n",
    "    \n",
    "#     mp3_bin=requests.get(link,headers=headers).content\n",
    "#     filename='{}.mp3'.format(title)\n",
    "#     with open(filename,'wb') as f:\n",
    "#         f.write(mp3_bin)\n",
    "#     break"
   ]
  }
 ],
 "metadata": {
  "kernelspec": {
   "display_name": "Python 3",
   "language": "python",
   "name": "python3"
  },
  "language_info": {
   "codemirror_mode": {
    "name": "ipython",
    "version": 3
   },
   "file_extension": ".py",
   "mimetype": "text/x-python",
   "name": "python",
   "nbconvert_exporter": "python",
   "pygments_lexer": "ipython3",
   "version": "3.6.5"
  }
 },
 "nbformat": 4,
 "nbformat_minor": 2
}
