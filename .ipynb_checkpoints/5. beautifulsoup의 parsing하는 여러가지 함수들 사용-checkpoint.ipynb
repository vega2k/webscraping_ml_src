{
 "cells": [
  {
   "cell_type": "code",
   "execution_count": 3,
   "metadata": {},
   "outputs": [
    {
     "data": {
      "text/plain": [
       "'\\n<ol>\\n    <li>NEVER -국민의아들</li>\\n    <li>SIGNAL -TWICE</li>\\n    <li>LONELY -씨스타</li>\\n    <li>I LUV IT -PSY</li>\\n    <li>New Face -PSY</li>\\n</ol>\\n'"
      ]
     },
     "execution_count": 3,
     "metadata": {},
     "output_type": "execute_result"
    }
   ],
   "source": [
    "from bs4 import BeautifulSoup\n",
    "\n",
    "html='''\n",
    "<ol>\n",
    "    <li id='na' class='first'>NEVER -국민의아들</li>\n",
    "    <li id='tw' class='first'>SIGNAL -TWICE</li>\n",
    "    <li id='lo' class='second'>LONELY -씨스타</li>\n",
    "    <li id='lu' class='second'>I LUV IT -PSY</li>\n",
    "    <li>New Face -PSY</li>\n",
    "</ol>\n",
    "'''\n",
    "html"
   ]
  },
  {
   "cell_type": "code",
   "execution_count": null,
   "metadata": {},
   "outputs": [],
   "source": []
  },
  {
   "cell_type": "code",
   "execution_count": null,
   "metadata": {},
   "outputs": [],
   "source": []
  }
 ],
 "metadata": {
  "kernelspec": {
   "display_name": "Python 3",
   "language": "python",
   "name": "python3"
  },
  "language_info": {
   "codemirror_mode": {
    "name": "ipython",
    "version": 3
   },
   "file_extension": ".py",
   "mimetype": "text/x-python",
   "name": "python",
   "nbconvert_exporter": "python",
   "pygments_lexer": "ipython3",
   "version": "3.6.5"
  }
 },
 "nbformat": 4,
 "nbformat_minor": 2
}
